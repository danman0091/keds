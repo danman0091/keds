{
 "metadata": {
  "name": "",
  "signature": "sha256:e4757189d414c8548e8570c03e1695f91eb51ee028601c486e27d1a662c2e471"
 },
 "nbformat": 3,
 "nbformat_minor": 0,
 "worksheets": [
  {
   "cells": [
    {
     "cell_type": "code",
     "collapsed": false,
     "input": [
      "%%bash\n",
      "gunzip -c ../data/ACATCG_R2_fx.fastq.gz | bowtie2 -N 1 -x ../ref/dhsr1_acatcg -U - | samtools view -bhS - > ../results/ACATCG_R2.bam"
     ],
     "language": "python",
     "metadata": {},
     "outputs": [
      {
       "output_type": "stream",
       "stream": "stderr",
       "text": [
        "[samopen] SAM header is present: 1 sequences.\n",
        "396005 reads; of these:\n",
        "  396005 (100.00%) were unpaired; of these:\n",
        "    222411 (56.16%) aligned 0 times\n",
        "    173594 (43.84%) aligned exactly 1 time\n",
        "    0 (0.00%) aligned >1 times\n",
        "43.84% overall alignment rate\n"
       ]
      }
     ],
     "prompt_number": 6
    },
    {
     "cell_type": "code",
     "collapsed": false,
     "input": [
      "%%bash\n",
      "samtools sort ../results/ACATCG_R2.bam ../results/ACATCG_R2_sorted\n",
      "samtools index ../results/ACATCG_R2_sorted.bam"
     ],
     "language": "python",
     "metadata": {},
     "outputs": [],
     "prompt_number": 9
    },
    {
     "cell_type": "code",
     "collapsed": false,
     "input": [
      "%%bash\n",
      "samtools mpileup -f ../ref/dhsr1_acatcg.fasta ../results/ACATCG_R2_sorted.bam > ../results/ACATCG_R2.pileup"
     ],
     "language": "python",
     "metadata": {},
     "outputs": [
      {
       "output_type": "stream",
       "stream": "stderr",
       "text": [
        "[mpileup] 1 samples in 1 input files\n",
        "<mpileup> Set max per-file depth to 8000\n"
       ]
      }
     ],
     "prompt_number": 12
    },
    {
     "cell_type": "code",
     "collapsed": false,
     "input": [
      "import csv\n",
      "import pandas as pd\n",
      "with open('../results/ACATCG_R2.pileup', 'rb') as csvfile:\n",
      "    reader = csv.DictReader(csvfile, delimiter='\\t', fieldnames=['seqname', 'pos', 'base', 'coverage', 'details', 'qual'])    \n",
      "    data = [{'pos': int(rec['pos']),\n",
      "             'base': rec['base'],\n",
      "             'reads': rec['details'].count('^')} for rec in reader]\n",
      "    \n",
      "df = pd.DataFrame.from_records(data)\n",
      "df"
     ],
     "language": "python",
     "metadata": {},
     "outputs": [
      {
       "html": [
        "<div style=\"max-height:1000px;max-width:1500px;overflow:auto;\">\n",
        "<table border=\"1\" class=\"dataframe\">\n",
        "  <thead>\n",
        "    <tr style=\"text-align: right;\">\n",
        "      <th></th>\n",
        "      <th>base</th>\n",
        "      <th>pos</th>\n",
        "      <th>reads</th>\n",
        "    </tr>\n",
        "  </thead>\n",
        "  <tbody>\n",
        "    <tr>\n",
        "      <th>0  </th>\n",
        "      <td> T</td>\n",
        "      <td>   1</td>\n",
        "      <td> 12</td>\n",
        "    </tr>\n",
        "    <tr>\n",
        "      <th>1  </th>\n",
        "      <td> C</td>\n",
        "      <td>   2</td>\n",
        "      <td>  2</td>\n",
        "    </tr>\n",
        "    <tr>\n",
        "      <th>2  </th>\n",
        "      <td> T</td>\n",
        "      <td>   3</td>\n",
        "      <td>  9</td>\n",
        "    </tr>\n",
        "    <tr>\n",
        "      <th>3  </th>\n",
        "      <td> C</td>\n",
        "      <td>   4</td>\n",
        "      <td>  0</td>\n",
        "    </tr>\n",
        "    <tr>\n",
        "      <th>4  </th>\n",
        "      <td> G</td>\n",
        "      <td>   5</td>\n",
        "      <td>  1</td>\n",
        "    </tr>\n",
        "    <tr>\n",
        "      <th>5  </th>\n",
        "      <td> C</td>\n",
        "      <td>   6</td>\n",
        "      <td>  1</td>\n",
        "    </tr>\n",
        "    <tr>\n",
        "      <th>6  </th>\n",
        "      <td> T</td>\n",
        "      <td>   7</td>\n",
        "      <td>  7</td>\n",
        "    </tr>\n",
        "    <tr>\n",
        "      <th>7  </th>\n",
        "      <td> A</td>\n",
        "      <td>   8</td>\n",
        "      <td> 23</td>\n",
        "    </tr>\n",
        "    <tr>\n",
        "      <th>8  </th>\n",
        "      <td> T</td>\n",
        "      <td>   9</td>\n",
        "      <td>  0</td>\n",
        "    </tr>\n",
        "    <tr>\n",
        "      <th>9  </th>\n",
        "      <td> G</td>\n",
        "      <td>  10</td>\n",
        "      <td>  1</td>\n",
        "    </tr>\n",
        "    <tr>\n",
        "      <th>10 </th>\n",
        "      <td> C</td>\n",
        "      <td>  11</td>\n",
        "      <td>  0</td>\n",
        "    </tr>\n",
        "    <tr>\n",
        "      <th>11 </th>\n",
        "      <td> G</td>\n",
        "      <td>  12</td>\n",
        "      <td>  7</td>\n",
        "    </tr>\n",
        "    <tr>\n",
        "      <th>12 </th>\n",
        "      <td> T</td>\n",
        "      <td>  13</td>\n",
        "      <td> 22</td>\n",
        "    </tr>\n",
        "    <tr>\n",
        "      <th>13 </th>\n",
        "      <td> C</td>\n",
        "      <td>  14</td>\n",
        "      <td>  2</td>\n",
        "    </tr>\n",
        "    <tr>\n",
        "      <th>14 </th>\n",
        "      <td> A</td>\n",
        "      <td>  15</td>\n",
        "      <td> 85</td>\n",
        "    </tr>\n",
        "    <tr>\n",
        "      <th>15 </th>\n",
        "      <td> C</td>\n",
        "      <td>  16</td>\n",
        "      <td>  1</td>\n",
        "    </tr>\n",
        "    <tr>\n",
        "      <th>16 </th>\n",
        "      <td> G</td>\n",
        "      <td>  17</td>\n",
        "      <td>  1</td>\n",
        "    </tr>\n",
        "    <tr>\n",
        "      <th>17 </th>\n",
        "      <td> T</td>\n",
        "      <td>  18</td>\n",
        "      <td> 22</td>\n",
        "    </tr>\n",
        "    <tr>\n",
        "      <th>18 </th>\n",
        "      <td> T</td>\n",
        "      <td>  19</td>\n",
        "      <td> 37</td>\n",
        "    </tr>\n",
        "    <tr>\n",
        "      <th>19 </th>\n",
        "      <td> A</td>\n",
        "      <td>  20</td>\n",
        "      <td> 27</td>\n",
        "    </tr>\n",
        "    <tr>\n",
        "      <th>20 </th>\n",
        "      <td> A</td>\n",
        "      <td>  21</td>\n",
        "      <td> 16</td>\n",
        "    </tr>\n",
        "    <tr>\n",
        "      <th>21 </th>\n",
        "      <td> A</td>\n",
        "      <td>  22</td>\n",
        "      <td> 20</td>\n",
        "    </tr>\n",
        "    <tr>\n",
        "      <th>22 </th>\n",
        "      <td> A</td>\n",
        "      <td>  23</td>\n",
        "      <td>  9</td>\n",
        "    </tr>\n",
        "    <tr>\n",
        "      <th>23 </th>\n",
        "      <td> A</td>\n",
        "      <td>  24</td>\n",
        "      <td> 56</td>\n",
        "    </tr>\n",
        "    <tr>\n",
        "      <th>24 </th>\n",
        "      <td> T</td>\n",
        "      <td>  25</td>\n",
        "      <td> 40</td>\n",
        "    </tr>\n",
        "    <tr>\n",
        "      <th>25 </th>\n",
        "      <td> A</td>\n",
        "      <td>  26</td>\n",
        "      <td> 40</td>\n",
        "    </tr>\n",
        "    <tr>\n",
        "      <th>26 </th>\n",
        "      <td> A</td>\n",
        "      <td>  27</td>\n",
        "      <td> 66</td>\n",
        "    </tr>\n",
        "    <tr>\n",
        "      <th>27 </th>\n",
        "      <td> T</td>\n",
        "      <td>  28</td>\n",
        "      <td>  9</td>\n",
        "    </tr>\n",
        "    <tr>\n",
        "      <th>28 </th>\n",
        "      <td> G</td>\n",
        "      <td>  29</td>\n",
        "      <td>  2</td>\n",
        "    </tr>\n",
        "    <tr>\n",
        "      <th>29 </th>\n",
        "      <td> A</td>\n",
        "      <td>  30</td>\n",
        "      <td> 13</td>\n",
        "    </tr>\n",
        "    <tr>\n",
        "      <th>...</th>\n",
        "      <td>...</td>\n",
        "      <td>...</td>\n",
        "      <td>...</td>\n",
        "    </tr>\n",
        "    <tr>\n",
        "      <th>655</th>\n",
        "      <td> C</td>\n",
        "      <td> 656</td>\n",
        "      <td>  0</td>\n",
        "    </tr>\n",
        "    <tr>\n",
        "      <th>656</th>\n",
        "      <td> C</td>\n",
        "      <td> 657</td>\n",
        "      <td>  0</td>\n",
        "    </tr>\n",
        "    <tr>\n",
        "      <th>657</th>\n",
        "      <td> C</td>\n",
        "      <td> 658</td>\n",
        "      <td>  0</td>\n",
        "    </tr>\n",
        "    <tr>\n",
        "      <th>658</th>\n",
        "      <td> G</td>\n",
        "      <td> 659</td>\n",
        "      <td>  0</td>\n",
        "    </tr>\n",
        "    <tr>\n",
        "      <th>659</th>\n",
        "      <td> A</td>\n",
        "      <td> 660</td>\n",
        "      <td>  0</td>\n",
        "    </tr>\n",
        "    <tr>\n",
        "      <th>660</th>\n",
        "      <td> T</td>\n",
        "      <td> 661</td>\n",
        "      <td>  0</td>\n",
        "    </tr>\n",
        "    <tr>\n",
        "      <th>661</th>\n",
        "      <td> G</td>\n",
        "      <td> 662</td>\n",
        "      <td>  0</td>\n",
        "    </tr>\n",
        "    <tr>\n",
        "      <th>662</th>\n",
        "      <td> T</td>\n",
        "      <td> 663</td>\n",
        "      <td>  0</td>\n",
        "    </tr>\n",
        "    <tr>\n",
        "      <th>663</th>\n",
        "      <td> A</td>\n",
        "      <td> 664</td>\n",
        "      <td>  0</td>\n",
        "    </tr>\n",
        "    <tr>\n",
        "      <th>664</th>\n",
        "      <td> A</td>\n",
        "      <td> 665</td>\n",
        "      <td>  0</td>\n",
        "    </tr>\n",
        "    <tr>\n",
        "      <th>665</th>\n",
        "      <td> A</td>\n",
        "      <td> 666</td>\n",
        "      <td>  0</td>\n",
        "    </tr>\n",
        "    <tr>\n",
        "      <th>666</th>\n",
        "      <td> T</td>\n",
        "      <td> 667</td>\n",
        "      <td>  0</td>\n",
        "    </tr>\n",
        "    <tr>\n",
        "      <th>667</th>\n",
        "      <td> C</td>\n",
        "      <td> 668</td>\n",
        "      <td>  0</td>\n",
        "    </tr>\n",
        "    <tr>\n",
        "      <th>668</th>\n",
        "      <td> G</td>\n",
        "      <td> 669</td>\n",
        "      <td>  0</td>\n",
        "    </tr>\n",
        "    <tr>\n",
        "      <th>669</th>\n",
        "      <td> G</td>\n",
        "      <td> 670</td>\n",
        "      <td>  0</td>\n",
        "    </tr>\n",
        "    <tr>\n",
        "      <th>670</th>\n",
        "      <td> G</td>\n",
        "      <td> 671</td>\n",
        "      <td>  0</td>\n",
        "    </tr>\n",
        "    <tr>\n",
        "      <th>671</th>\n",
        "      <td> C</td>\n",
        "      <td> 672</td>\n",
        "      <td>  0</td>\n",
        "    </tr>\n",
        "    <tr>\n",
        "      <th>672</th>\n",
        "      <td> T</td>\n",
        "      <td> 673</td>\n",
        "      <td>  0</td>\n",
        "    </tr>\n",
        "    <tr>\n",
        "      <th>673</th>\n",
        "      <td> T</td>\n",
        "      <td> 674</td>\n",
        "      <td>  0</td>\n",
        "    </tr>\n",
        "    <tr>\n",
        "      <th>674</th>\n",
        "      <td> C</td>\n",
        "      <td> 675</td>\n",
        "      <td>  0</td>\n",
        "    </tr>\n",
        "    <tr>\n",
        "      <th>675</th>\n",
        "      <td> G</td>\n",
        "      <td> 676</td>\n",
        "      <td>  0</td>\n",
        "    </tr>\n",
        "    <tr>\n",
        "      <th>676</th>\n",
        "      <td> G</td>\n",
        "      <td> 677</td>\n",
        "      <td>  0</td>\n",
        "    </tr>\n",
        "    <tr>\n",
        "      <th>677</th>\n",
        "      <td> T</td>\n",
        "      <td> 678</td>\n",
        "      <td>  0</td>\n",
        "    </tr>\n",
        "    <tr>\n",
        "      <th>678</th>\n",
        "      <td> C</td>\n",
        "      <td> 679</td>\n",
        "      <td>  0</td>\n",
        "    </tr>\n",
        "    <tr>\n",
        "      <th>679</th>\n",
        "      <td> C</td>\n",
        "      <td> 680</td>\n",
        "      <td>  0</td>\n",
        "    </tr>\n",
        "    <tr>\n",
        "      <th>680</th>\n",
        "      <td> G</td>\n",
        "      <td> 681</td>\n",
        "      <td>  0</td>\n",
        "    </tr>\n",
        "    <tr>\n",
        "      <th>681</th>\n",
        "      <td> G</td>\n",
        "      <td> 682</td>\n",
        "      <td>  0</td>\n",
        "    </tr>\n",
        "    <tr>\n",
        "      <th>682</th>\n",
        "      <td> T</td>\n",
        "      <td> 683</td>\n",
        "      <td>  0</td>\n",
        "    </tr>\n",
        "    <tr>\n",
        "      <th>683</th>\n",
        "      <td> T</td>\n",
        "      <td> 684</td>\n",
        "      <td>  0</td>\n",
        "    </tr>\n",
        "    <tr>\n",
        "      <th>684</th>\n",
        "      <td> C</td>\n",
        "      <td> 685</td>\n",
        "      <td>  0</td>\n",
        "    </tr>\n",
        "  </tbody>\n",
        "</table>\n",
        "<p>685 rows \u00d7 3 columns</p>\n",
        "</div>"
       ],
       "metadata": {},
       "output_type": "pyout",
       "prompt_number": 16,
       "text": [
        "    base  pos  reads\n",
        "0      T    1     12\n",
        "1      C    2      2\n",
        "2      T    3      9\n",
        "3      C    4      0\n",
        "4      G    5      1\n",
        "5      C    6      1\n",
        "6      T    7      7\n",
        "7      A    8     23\n",
        "8      T    9      0\n",
        "9      G   10      1\n",
        "10     C   11      0\n",
        "11     G   12      7\n",
        "12     T   13     22\n",
        "13     C   14      2\n",
        "14     A   15     85\n",
        "15     C   16      1\n",
        "16     G   17      1\n",
        "17     T   18     22\n",
        "18     T   19     37\n",
        "19     A   20     27\n",
        "20     A   21     16\n",
        "21     A   22     20\n",
        "22     A   23      9\n",
        "23     A   24     56\n",
        "24     T   25     40\n",
        "25     A   26     40\n",
        "26     A   27     66\n",
        "27     T   28      9\n",
        "28     G   29      2\n",
        "29     A   30     13\n",
        "..   ...  ...    ...\n",
        "655    C  656      0\n",
        "656    C  657      0\n",
        "657    C  658      0\n",
        "658    G  659      0\n",
        "659    A  660      0\n",
        "660    T  661      0\n",
        "661    G  662      0\n",
        "662    T  663      0\n",
        "663    A  664      0\n",
        "664    A  665      0\n",
        "665    A  666      0\n",
        "666    T  667      0\n",
        "667    C  668      0\n",
        "668    G  669      0\n",
        "669    G  670      0\n",
        "670    G  671      0\n",
        "671    C  672      0\n",
        "672    T  673      0\n",
        "673    T  674      0\n",
        "674    C  675      0\n",
        "675    G  676      0\n",
        "676    G  677      0\n",
        "677    T  678      0\n",
        "678    C  679      0\n",
        "679    C  680      0\n",
        "680    G  681      0\n",
        "681    G  682      0\n",
        "682    T  683      0\n",
        "683    T  684      0\n",
        "684    C  685      0\n",
        "\n",
        "[685 rows x 3 columns]"
       ]
      }
     ],
     "prompt_number": 16
    },
    {
     "cell_type": "code",
     "collapsed": false,
     "input": [
      "%%bash\n",
      "gunzip -c ../data/trimmed.fastq.gz | bowtie2 -N 1 -x ../ref/dhsr1_acatcg -U - | samtools view -bhS - > ../results/trimmed.bam"
     ],
     "language": "python",
     "metadata": {},
     "outputs": [
      {
       "output_type": "stream",
       "stream": "stderr",
       "text": [
        "[samopen] SAM header is present: 1 sequences.\n",
        "396005 reads; of these:\n",
        "  396005 (100.00%) were unpaired; of these:\n",
        "    84945 (21.45%) aligned 0 times\n",
        "    311060 (78.55%) aligned exactly 1 time\n",
        "    0 (0.00%) aligned >1 times\n",
        "78.55% overall alignment rate\n"
       ]
      }
     ],
     "prompt_number": 18
    },
    {
     "cell_type": "code",
     "collapsed": false,
     "input": [
      "with open('../results/trimmed.pileup', 'rb') as csvfile:\n",
      "    reader = csv.DictReader(csvfile, delimiter='\\t', fieldnames=['seqname', 'pos', 'base', 'coverage', 'details', 'qual'])    \n",
      "    data = [{'pos': int(rec['pos']),\n",
      "             'base': rec['base'],\n",
      "             'reads': rec['details'].count('^')} for rec in reader]\n",
      "    \n",
      "df = pd.DataFrame.from_records(data)"
     ],
     "language": "python",
     "metadata": {},
     "outputs": [],
     "prompt_number": 22
    },
    {
     "cell_type": "code",
     "collapsed": false,
     "input": [
      "%matplotlib inline"
     ],
     "language": "python",
     "metadata": {},
     "outputs": [],
     "prompt_number": 25
    },
    {
     "cell_type": "code",
     "collapsed": false,
     "input": [
      "df.plot(x='pos', y='reads')"
     ],
     "language": "python",
     "metadata": {},
     "outputs": [
      {
       "metadata": {},
       "output_type": "pyout",
       "prompt_number": 26,
       "text": [
        "<matplotlib.axes.AxesSubplot at 0x7f3ab526f5d0>"
       ]
      },
      {
       "metadata": {},
       "output_type": "display_data",
       "png": "[encoded data removed]",
       "text": [
        "<matplotlib.figure.Figure at 0x7f3ab526fc10>"
       ]
      }
     ],
     "prompt_number": 26
    },
    {
     "cell_type": "code",
     "collapsed": false,
     "input": [
      "import gzip\n",
      "from itertools import izip\n",
      "from skbio.parse.sequences import parse_fastq\n",
      "\n",
      "bc_minus = 'YYYR'\n",
      "bc_plus = 'RRRY'\n",
      "\n",
      "fastq_tpl='@{id}\\n{seq}\\n+\\n{qual}\\n'\n",
      "\n",
      "with gzip.open('../data/ACATCG_R1_fx.fastq.gz', 'rb') as gzr1, \\\n",
      "     gzip.open('../data/ACATCG_R2_fx.fastq.gz', 'rb') as gzr2, \\\n",
      "     gzip.open('../results/minus.fastq.gz', 'wb') as gz_minus, \\\n",
      "     gzip.open('../results/plus.fastq.gz', 'wb') as gz_plus:\n",
      "    mates = izip(parse_fastq(gzr1), parse_fastq(gzr2))\n",
      "    for rec1, rec2 in mates:\n",
      "        id1, seq1, qual1 = rec1\n",
      "        id2, seq2, qual2 = rec2\n",
      "        qual_str = ''.join([chr(q+33) for q in qual2])\n",
      "        if seq1[0] in 'CTN' and seq1[1] in 'CTN' and seq1[2] in 'CTN' and seq1[3] in 'AGN':\n",
      "            gz_minus.write(fastq_tpl.format(id=id2,seq=seq2,qual=qual_str))\n",
      "        elif seq1[0] in 'AGN' and seq1[1] in 'AGN' and seq1[2] in 'AGN' and seq1[3] in 'CTN':\n",
      "            gz_plus.write(fastq_tpl.format(id=id2,seq=seq2,qual=qual_str))\n"
     ],
     "language": "python",
     "metadata": {},
     "outputs": [],
     "prompt_number": 32
    },
    {
     "cell_type": "code",
     "collapsed": false,
     "input": [
      "def split_pools(barcode, dirname='../data'):\n",
      "    d, _, filenames = os.walk(dirname)\n",
      "    files = [f for f in filenames if f.startswith(barcode)]\n",
      "    files_R1 = [f for f in files if 'R1' in f]\n",
      "    files_R2 = [f for f in files if 'R2' in f]\n",
      "    fastq_tpl='@{id}\\n{seq}\\n+\\n{qual}\\n'\n",
      "    for file_R1,file_R2 in zip(files_R1, files_R2):\n",
      "        with gzip.open(file_R1, 'rb') as gzr1, gzip.open(file_R2, 'rb') as gzr2, \\\n",
      "             gzip.open(os.path.join(dirname, barcode+'_minus.fastq.gz'), 'wb') as gz_minus, \\\n",
      "             gzip.open(os.path.join(dirname, barcode+'_plus.fastq.gz'), 'wb') as gz_plus:\n",
      "            for rec1,rec2 in izip(parse_fastq(gzr1), parse_fastq(gzr2)):\n",
      "                id1, seq1, qual1 = rec1\n",
      "                id2, seq2, qual2 = rec2\n",
      "                qual_str = ''.join([chr(33+q) for q in qual2])\n",
      "                if seq1[0] in 'CTN' and seq1[1] in 'CTN' and seq1[2] in 'CTN' and seq1[3] in 'AGN':\n",
      "                    gz_minus.write(fastq_tpl.format(id=id2,seq=seq2,qual=qual_str))\n",
      "                elif seq1[0] in 'AGN' and seq1[1] in 'AGN' and seq1[2] in 'AGN' and seq1[3] in 'CTN':\n",
      "                    gz_plus.write(fastq_tpl.format(id=id2,seq=seq2,qual=qual_str))"
     ],
     "language": "python",
     "metadata": {},
     "outputs": []
    },
    {
     "cell_type": "code",
     "collapsed": false,
     "input": [
      "%%bash\n",
      "# Trim adapters from 3' ends of the reads\n",
      "cutadapt -a GATCGGAAGAGCACACGTCTGAACTCCAGTCAC -o plus_trimmed.fastq.gz plus.fastq.gz"
     ],
     "language": "python",
     "metadata": {},
     "outputs": []
    },
    {
     "cell_type": "code",
     "collapsed": false,
     "input": [
      "%%bash\n",
      "# Minus pool\n",
      "%%bash\n",
      "gunzip -c ../data/minus_trimmed.fastq.gz | bowtie2 -N 1 -x ../ref/dhsr1_acatcg -U - | samtools view -bhS - > ../results/minus_trimmed.bam"
     ],
     "language": "python",
     "metadata": {},
     "outputs": [
      {
       "output_type": "stream",
       "stream": "stderr",
       "text": [
        "bash: line 2: fg: no job control\n",
        "[samopen] SAM header is present: 1 sequences.\n",
        "190066 reads; of these:\n",
        "  190066 (100.00%) were unpaired; of these:\n",
        "    40867 (21.50%) aligned 0 times\n",
        "    149199 (78.50%) aligned exactly 1 time\n",
        "    0 (0.00%) aligned >1 times\n",
        "78.50% overall alignment rate\n"
       ]
      }
     ],
     "prompt_number": 33
    },
    {
     "cell_type": "code",
     "collapsed": false,
     "input": [
      "%%bash\n",
      "# Plus pool\n",
      "%%bash\n",
      "gunzip -c ../data/plus_trimmed.fastq.gz | bowtie2 -N 1 -x ../ref/dhsr1_acatcg -U - | samtools view -bhS - > ../results/plus_trimmed.bam"
     ],
     "language": "python",
     "metadata": {},
     "outputs": [
      {
       "output_type": "stream",
       "stream": "stderr",
       "text": [
        "bash: line 2: fg: no job control\n",
        "[samopen] SAM header is present: 1 sequences.\n",
        "188089 reads; of these:\n",
        "  188089 (100.00%) were unpaired; of these:\n",
        "    40194 (21.37%) aligned 0 times\n",
        "    147895 (78.63%) aligned exactly 1 time\n",
        "    0 (0.00%) aligned >1 times\n",
        "78.63% overall alignment rate\n"
       ]
      }
     ],
     "prompt_number": 34
    },
    {
     "cell_type": "code",
     "collapsed": false,
     "input": [
      "%%bash\n",
      "samtools sort ../results/minus_trimmed.bam ../results/minus_trimmed_sorted\n",
      "samtools index ../results/minus_trimmed_sorted.bam"
     ],
     "language": "python",
     "metadata": {},
     "outputs": [],
     "prompt_number": 35
    },
    {
     "cell_type": "code",
     "collapsed": false,
     "input": [
      "%%bash\n",
      "samtools sort ../results/plus_trimmed.bam ../results/plus_trimmed_sorted\n",
      "samtools index ../results/plus_trimmed_sorted.bam"
     ],
     "language": "python",
     "metadata": {},
     "outputs": [],
     "prompt_number": 36
    },
    {
     "cell_type": "code",
     "collapsed": false,
     "input": [
      "%%bash\n",
      "samtools mpileup -f ../ref/dhsr1_acatcg.fasta ../results/minus_trimmed_sorted.bam > ../results/minus.pileup\n",
      "samtools mpileup -f ../ref/dhsr1_acatcg.fasta ../results/plus_trimmed_sorted.bam > ../results/plus.pileup"
     ],
     "language": "python",
     "metadata": {},
     "outputs": [
      {
       "output_type": "stream",
       "stream": "stderr",
       "text": [
        "[mpileup] 1 samples in 1 input files\n",
        "<mpileup> Set max per-file depth to 8000\n",
        "[mpileup] 1 samples in 1 input files\n",
        "<mpileup> Set max per-file depth to 8000\n"
       ]
      }
     ],
     "prompt_number": 37
    },
    {
     "cell_type": "code",
     "collapsed": false,
     "input": [
      "def parse_pileup(filename):\n",
      "    with open(filename, 'rb') as csvfile:\n",
      "        reader = csv.DictReader(csvfile, delimiter='\\t', fieldnames=['seqname', 'pos', 'base', 'coverage', 'details', 'qual'])    \n",
      "        data = [{'pos': int(rec['pos']),\n",
      "                 'base': rec['base'],\n",
      "                 'reads': rec['details'].count('^')} for rec in reader]\n",
      "    \n",
      "    return pd.DataFrame.from_records(data)"
     ],
     "language": "python",
     "metadata": {},
     "outputs": [],
     "prompt_number": 38
    },
    {
     "cell_type": "code",
     "collapsed": false,
     "input": [
      "df_minus = parse_pileup('../results/minus.pileup')\n",
      "df_plus = parse_pileup('../results/plus.pileup')"
     ],
     "language": "python",
     "metadata": {},
     "outputs": [],
     "prompt_number": 39
    },
    {
     "cell_type": "code",
     "collapsed": false,
     "input": [
      "df_minus['plus'] = df_plus['reads']\n",
      "df_minus.plot(x='pos', y='reads')"
     ],
     "language": "python",
     "metadata": {},
     "outputs": [
      {
       "metadata": {},
       "output_type": "pyout",
       "prompt_number": 43,
       "text": [
        "<matplotlib.axes.AxesSubplot at 0x7f3ab4ee6450>"
       ]
      },
      {
       "metadata": {},
       "output_type": "display_data",
       "png": "[encoded data removed]",
       "text": [
        "<matplotlib.figure.Figure at 0x7f3ab4ee6890>"
       ]
      }
     ],
     "prompt_number": 43
    },
    {
     "cell_type": "code",
     "collapsed": false,
     "input": [
      "df_minus.plot(x='pos', y='plus')"
     ],
     "language": "python",
     "metadata": {},
     "outputs": [
      {
       "metadata": {},
       "output_type": "pyout",
       "prompt_number": 44,
       "text": [
        "<matplotlib.axes.AxesSubplot at 0x7f3aad07dcd0>"
       ]
      },
      {
       "metadata": {},
       "output_type": "display_data",
       "png": "[encoded data removed]",
       "text": [
        "<matplotlib.figure.Figure at 0x7f3aad08b4d0>"
       ]
      }
     ],
     "prompt_number": 44
    },
    {
     "cell_type": "code",
     "collapsed": false,
     "input": [
      "df_minus.rename(columns={'reads': 'minus'}, inplace=True)"
     ],
     "language": "python",
     "metadata": {},
     "outputs": [],
     "prompt_number": 49
    },
    {
     "cell_type": "code",
     "collapsed": false,
     "input": [
      "import numpy as np\n",
      "# the order needs to be reversed\n",
      "\n",
      "df_minus['theta'] = np.log(1-df_minus['minus']/df_minus['minus'].cumsum()) - np.log(1-df_minus['plus']/df_minus['plus'].cumsum())\n",
      "df_minus.plot(x='pos', y='theta')\n"
     ],
     "language": "python",
     "metadata": {},
     "outputs": [
      {
       "metadata": {},
       "output_type": "pyout",
       "prompt_number": 52,
       "text": [
        "<matplotlib.axes.AxesSubplot at 0x7f3aacf8e490>"
       ]
      },
      {
       "metadata": {},
       "output_type": "display_data",
       "png": "[encoded data removed]",
       "text": [
        "<matplotlib.figure.Figure at 0x7f3aacf8e0d0>"
       ]
      }
     ],
     "prompt_number": 52
    },
    {
     "cell_type": "code",
     "collapsed": false,
     "input": [
      "df = df_minus[['pos','base','plus','minus']]\n",
      "df = df[df['pos'] < 655 ]\n",
      "df = df.reindex(index=df.index[::-1])\n",
      "df['theta'] = np.log(1-df['minus']/df['minus'].cumsum()) - np.log(1-df['plus']/df['plus'].cumsum())\n",
      "#df.plot(x='pos', y='theta')\n",
      "df[df['theta'] < 0]['theta'] = 0\n",
      "df.plot(x='pos', y='theta')\n"
     ],
     "language": "python",
     "metadata": {},
     "outputs": [
      {
       "metadata": {},
       "output_type": "pyout",
       "prompt_number": 80,
       "text": [
        "<matplotlib.axes.AxesSubplot at 0x7f3aac5162d0>"
       ]
      },
      {
       "metadata": {},
       "output_type": "display_data",
       "png": "[encoded data removed]",
       "text": [
        "<matplotlib.figure.Figure at 0x7f3aac520fd0>"
       ]
      }
     ],
     "prompt_number": 80
    },
    {
     "cell_type": "code",
     "collapsed": false,
     "input": [
      "df.max()"
     ],
     "language": "python",
     "metadata": {},
     "outputs": [
      {
       "metadata": {},
       "output_type": "pyout",
       "prompt_number": 70,
       "text": [
        "pos            654\n",
        "base             T\n",
        "plus          2275\n",
        "minus         2302\n",
        "theta    0.1032137\n",
        "dtype: object"
       ]
      }
     ],
     "prompt_number": 70
    },
    {
     "cell_type": "code",
     "collapsed": false,
     "input": [],
     "language": "python",
     "metadata": {},
     "outputs": []
    }
   ],
   "metadata": {}
  }
 ]
}