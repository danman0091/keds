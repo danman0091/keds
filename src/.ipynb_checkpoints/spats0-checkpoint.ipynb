{
 "metadata": {
  "name": "",
  "signature": "sha256:9cb6c34d0cca7e98a737927c238849aac6817b4bc6f3b15abb69b58af7124e48"
 },
 "nbformat": 3,
 "nbformat_minor": 0,
 "worksheets": []
}